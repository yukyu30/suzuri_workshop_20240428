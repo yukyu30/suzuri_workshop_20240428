{
  "cells": [
    {
      "cell_type": "markdown",
      "metadata": {
        "colab_type": "text",
        "id": "view-in-github"
      },
      "source": [
        "<a href=\"https://colab.research.google.com/github/yukyu30/suzuri_workshop_20240428/blob/main/suzuri_stability.ipynb\" target=\"_parent\"><img src=\"https://colab.research.google.com/assets/colab-badge.svg\" alt=\"Open In Colab\"/></a>"
      ]
    },
    {
      "cell_type": "markdown",
      "metadata": {
        "id": "rgv9qma6OOue"
      },
      "source": [
        "# Stability AIとSUZURI　APIを使ってグッズをつくろう\n",
        "## 必要なもの\n",
        "- Googleアカウント\n",
        "- SUZURIのアカウント\n",
        "- Stability APIのAPIキー\n",
        "\n",
        "## ワークショップの内容\n",
        "写真や画像をStablity AIのImage To Image機能を使い、加工してもらい、そのままSUZURIでグッズにします！"
      ]
    },
    {
      "cell_type": "code",
      "execution_count": null,
      "metadata": {
        "id": "AvTo6cVeF3ip"
      },
      "outputs": [],
      "source": [
        "# @title 必要なライブラリのインストール\n",
        "from io import BytesIO\n",
        "import IPython\n",
        "import json\n",
        "import os\n",
        "from PIL import Image\n",
        "import requests\n",
        "import time\n",
        "from google.colab import output\n",
        "import base64"
      ]
    },
    {
      "cell_type": "code",
      "execution_count": null,
      "metadata": {
        "colab": {
          "base_uri": "https://localhost:8080/"
        },
        "id": "dtw-2LAC7NgM",
        "outputId": "d8085e10-322d-43da-aec8-b017ec265073"
      },
      "outputs": [],
      "source": [
        "# @title Stability APIを使う設定をします\n",
        "\n",
        "import getpass\n",
        "# @markdown 実行ボタンをクリックして、表示されるフォームに共有されたAPIキーを貼り付けてください\n",
        "STABILITY_KEY = getpass.getpass('Stability API キーを入力してください')\n"
      ]
    },
    {
      "cell_type": "code",
      "execution_count": null,
      "metadata": {
        "colab": {
          "base_uri": "https://localhost:8080/"
        },
        "id": "D67Aagp00UTt",
        "outputId": "6200ab28-a0f5-47f0-c7a2-514d1283ae46"
      },
      "outputs": [],
      "source": [
        "# @title SUZURI　APIを使う設定をします\n",
        "\n",
        "import getpass\n",
        "# @markdown 実行ボタンをクリックして、表示されるフォームにSUZURI APIキーを貼り付けてください\n",
        "# @markdown\n",
        "# @markdown - https://suzuri.jp/developer/apps\n",
        "SUZURI_KEY = getpass.getpass('SUZURI APIキーを入力してください')\n"
      ]
    },
    {
      "cell_type": "code",
      "execution_count": null,
      "metadata": {
        "id": "pVBZ1o3fH1HX"
      },
      "outputs": [],
      "source": [
        "import requests\n",
        "# @title 各APIを使うための関数を定義\n",
        "\n",
        "# 画像生成のリクエストを送信する関数\n",
        "def generate_image(host, params, image):\n",
        "  headers = {\n",
        "    \"Accept\": \"image/*\",\n",
        "    \"Authorization\": f\"Bearer {STABILITY_KEY}\"\n",
        "  }\n",
        "\n",
        "  files = {\n",
        "    \"image\": open(image, 'rb')\n",
        "  }\n",
        "\n",
        "  print(f\"Sending REST request to {host}...\")\n",
        "  response = requests.post(\n",
        "    host,\n",
        "    headers=headers,\n",
        "    files=files,\n",
        "    data=params\n",
        "  )\n",
        "\n",
        "  if not response.ok:\n",
        "    raise Exception(f\"Stability APIでエラーが発生しました！! -> HTTP {response.status_code}: {response.text}\")\n",
        "\n",
        "  return response\n",
        "\n",
        "\n",
        "# SUZURIでのグッズ作成をする関数\n",
        "def creata_product(host, params):\n",
        "  headers = {\n",
        "    \"Content-Type\": \"application/json\",\n",
        "    \"Authorization\": f\"Bearer {SUZURI_KEY}\"\n",
        "  }\n",
        "\n",
        "  response = requests.post(host, data=params, headers=headers)\n",
        "\n",
        "  if not response.ok:\n",
        "    raise Exception(f\"SUZURI APIでエラーが発生しました！! -> HTTP {response.status_code}: {response.text}\")\n",
        "\n",
        "  return response\n"
      ]
    },
    {
      "cell_type": "markdown",
      "metadata": {
        "id": "kLri1VCiqjKJ"
      },
      "source": [
        "# 画像生成に関して\n",
        "- Stablity AIのImage To Image機能を使って画像を生成します。\n",
        "\n",
        "- SD3：画像生成に6.5クレジットを使用します。\n",
        "- SD3 Turbo:  画像生成に4クレジットを使用します。\n",
        "\n",
        "# SUZURI APIに関して\n",
        "- SUZURI APIを使って、画像をグッズにします。\n",
        "- グッズの作成を短時間に何十回も行うと、SUZURIのAPIの利用制限に引っかかる可能性があります。\n",
        "\n",
        "## グッズの作成(販売開始)\n",
        "- グッズ作成にはお金はかかりません\n",
        "- 実際にグッズを購入するときにはお金がかかります\n",
        "\n"
      ]
    },
    {
      "cell_type": "markdown",
      "metadata": {
        "id": "RRNh3vR2e7-P"
      },
      "source": [
        "# AIに画像の加工をしてもらう"
      ]
    },
    {
      "cell_type": "markdown",
      "metadata": {
        "id": "VQxZGQfsgC9r"
      },
      "source": [
        "# Image to Image"
      ]
    },
    {
      "cell_type": "code",
      "execution_count": null,
      "metadata": {
        "colab": {
          "base_uri": "https://localhost:8080/",
          "height": 841
        },
        "id": "6pBghFbwgFSY",
        "outputId": "35cf70b5-9235-4aa2-ebe8-c844a3c5ee66"
      },
      "outputs": [],
      "source": [
        "#@title Stability AIを使って画像の編集をする\n",
        "#@markdown - 左のフォルダマークをクリックして画像をドラッグアンドドロップ (またはファイルアップロードボタンから画像を追加)\n",
        "#@markdown - アップロードした画像を左クリックして「パスのコピー」をクリック\n",
        "#@markdown - imageのフォームにコピーしたパスをペースト\n",
        "#@markdown - promptのフォームは英語で入力してください(例: convert pixel art)\n",
        "#@markdown <br><br>\n",
        "\n",
        "image = \"/render.png\" #@param {type:\"string\"}\n",
        "prompt = \"painting art\" #@param {type:\"string\"}\n",
        "negative_prompt = \"\" #@param {type:\"string\"}\n",
        "seed = 0 #@param {type:\"integer\"}\n",
        "output_format = \"jpeg\" #@param [\"jpeg\", \"png\"]\n",
        "strength = 0.75 #@param {type:\"slider\", min:0.0, max: 1.0, step: 0.01}\n",
        "\n",
        "host = f\"https://api.stability.ai/v2beta/stable-image/generate/sd3\"\n",
        "\n",
        "params = {\n",
        "    \"prompt\" : prompt,\n",
        "    \"negative_prompt\" : negative_prompt,\n",
        "    \"strength\" : strength,\n",
        "    \"seed\" : seed,\n",
        "    \"output_format\": output_format,\n",
        "    \"mode\" : \"image-to-image\"\n",
        "}\n",
        "\n",
        "#　画像加工の実行\n",
        "response = generate_image(\n",
        "    host,\n",
        "    params,\n",
        "    image\n",
        ")\n",
        "\n",
        "# 加工結果を取得する\n",
        "output_image = response.content\n",
        "finish_reason = response.headers.get(\"finish-reason\")\n",
        "seed = response.headers.get(\"seed\")\n",
        "\n",
        "# 不適切なコンテンツかどうかをチェック\n",
        "if finish_reason == 'CONTENT_FILTERED':\n",
        "    raise Warning(\"不適切なコンテンツが検出されました\")\n",
        "\n",
        "# 画像を保存\n",
        "generated = f\"generated_{seed}.{output_format}\"\n",
        "with open(generated, \"wb\") as f:\n",
        "    f.write(output_image)\n",
        "print(f\"画像を保存しました: {generated}\")\n",
        "\n",
        "# 画像を表示する\n",
        "output.no_vertical_scroll()\n",
        "print(\"生成した画像:\")\n",
        "IPython.display.display(Image.open(generated))\n"
      ]
    },
    {
      "cell_type": "code",
      "execution_count": null,
      "metadata": {
        "colab": {
          "base_uri": "https://localhost:8080/",
          "height": 53
        },
        "id": "YKSeYw7Q-SiE",
        "outputId": "2978ee6b-9e41-4088-c20e-24304566b37a"
      },
      "outputs": [],
      "source": [
        "#@title SUZURIでのグッズ作成\n",
        "#@markdown - 左のフォルダマークをクリックして画像をドラッグアンドドロップ (またはファイルアップロードボタンから画像を追加)\n",
        "#@markdown - アップロードした画像を左クリックして「パスのコピー」をクリック\n",
        "#@markdown - imageのフォームにコピーしたパスをペースト\n",
        "#@markdown - promptのフォームは英語で入力してください(例: convert pixel art)\n",
        "#@markdown <br><br>\n",
        "\n",
        "title = \"無題\" #@param {type:\"string\"}\n",
        "public = False #@param {type:\"boolean\"}\n",
        "toribun = 0 #@param {type:\"number\"}\n",
        "\n",
        "suzuri_host = f\"https://suzuri.jp/api/v1/materials\"\n",
        "\n",
        "# 画像をbase64エンコード\n",
        "with open(generated, \"rb\") as image_file:\n",
        "    # 画像ファイルの中身を読み込む\n",
        "    image_data = image_file.read()\n",
        "    # base64にエンコードする\n",
        "    base64_image = base64.b64encode(image_data).decode(\"utf-8\")\n",
        "\n",
        "params = {\n",
        "        \"texture\": f\"data:image/jpeg;base64,{base64_image}\",\n",
        "        \"title\": title,\n",
        "        \"price\": toribun,\n",
        "        \"products\": [\n",
        "            {\n",
        "                \"itemId\": 1,\n",
        "                \"exemplaryItemVariantId\": 151,\n",
        "                \"published\": bool(public),\n",
        "                \"resizeMode\": \"contain\"\n",
        "            }\n",
        "        ]\n",
        "    }\n",
        "\n",
        "# グッズ作成の実行\n",
        "response = creata_product(host=suzuri_host, params= json.dumps(params))\n",
        "\n",
        "data = response.json()\n",
        "print(\"グッズができました！以下のURLから確認できます\")\n",
        "print(data['products'][0]['sampleUrl'])\n",
        "\n"
      ]
    }
  ],
  "metadata": {
    "colab": {
      "include_colab_link": true,
      "provenance": []
    },
    "kernelspec": {
      "display_name": "Python 3",
      "name": "python3"
    },
    "language_info": {
      "name": "python"
    }
  },
  "nbformat": 4,
  "nbformat_minor": 0
}
